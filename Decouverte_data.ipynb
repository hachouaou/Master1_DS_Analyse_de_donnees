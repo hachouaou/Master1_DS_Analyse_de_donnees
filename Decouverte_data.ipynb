{
 "cells": [
  {
   "cell_type": "code",
   "execution_count": 4,
   "metadata": {},
   "outputs": [],
   "source": [
    "import pandas as pd\n",
    "\n",
    "df_raw = pd.read_excel('perfume_database.xlsx')\n",
    "df_cleaned = pd.read_excel('perfume_database_cleaned.xlsx')"
   ]
  },
  {
   "cell_type": "code",
   "execution_count": 16,
   "metadata": {},
   "outputs": [
    {
     "data": {
      "text/plain": [
       "((37926, 8), (36969, 3))"
      ]
     },
     "execution_count": 16,
     "metadata": {},
     "output_type": "execute_result"
    }
   ],
   "source": [
    "df_raw.shape, df_cleaned.shape"
   ]
  },
  {
   "cell_type": "markdown",
   "metadata": {},
   "source": [
    "# COMMENTAIRE\n",
    "La colonne image, longevity, sillage, ne sont pas pertienentes pour notre analyse.\n",
    "    Il serait bien d'avoir aussi une colonne qui indique si le parfum est pour homme ou pour femme.\n",
    "    l serait bien de rajouter une colonne qui indique le 'Perfume Rating'\n"
   ]
  },
  {
   "cell_type": "code",
   "execution_count": 18,
   "metadata": {},
   "outputs": [
    {
     "data": {
      "text/html": [
       "<div>\n",
       "<style scoped>\n",
       "    .dataframe tbody tr th:only-of-type {\n",
       "        vertical-align: middle;\n",
       "    }\n",
       "\n",
       "    .dataframe tbody tr th {\n",
       "        vertical-align: top;\n",
       "    }\n",
       "\n",
       "    .dataframe thead th {\n",
       "        text-align: right;\n",
       "    }\n",
       "</style>\n",
       "<table border=\"1\" class=\"dataframe\">\n",
       "  <thead>\n",
       "    <tr style=\"text-align: right;\">\n",
       "      <th></th>\n",
       "      <th>brand</th>\n",
       "      <th>perfume</th>\n",
       "      <th>launch_year</th>\n",
       "      <th>main_accords</th>\n",
       "      <th>notes</th>\n",
       "    </tr>\n",
       "  </thead>\n",
       "  <tbody>\n",
       "    <tr>\n",
       "      <th>0</th>\n",
       "      <td>18 21 Man Made</td>\n",
       "      <td>Sweet Tobacco Spirits</td>\n",
       "      <td>2016.0</td>\n",
       "      <td>[\"wine\", \"vanilla\", \"sweet\", \"woody\", \"aromatic\"]</td>\n",
       "      <td>[\"Citruses\", \"Saffron\", \"Tonka Bean\", \"Vanilla...</td>\n",
       "    </tr>\n",
       "    <tr>\n",
       "      <th>1</th>\n",
       "      <td>40 Notes Perfume</td>\n",
       "      <td>Cashmere Musk</td>\n",
       "      <td>NaN</td>\n",
       "      <td>[\"woody\", \"musky\", \"balsamic\", \"powdery\", \"war...</td>\n",
       "      <td>[\"Sandalwood\", \"Cedar\", \"White Musk\", \"Cashmer...</td>\n",
       "    </tr>\n",
       "    <tr>\n",
       "      <th>2</th>\n",
       "      <td>40 Notes Perfume</td>\n",
       "      <td>Exotic Ylang Ylang</td>\n",
       "      <td>NaN</td>\n",
       "      <td>[\"yellow floral\", \"white floral\", \"sweet\", \"mu...</td>\n",
       "      <td>[\"Ylang-Ylang\", \"Gardenia\", \"Musk\"]</td>\n",
       "    </tr>\n",
       "    <tr>\n",
       "      <th>3</th>\n",
       "      <td>40 Notes Perfume</td>\n",
       "      <td>Exquisite Amber</td>\n",
       "      <td>NaN</td>\n",
       "      <td>[\"balsamic\", \"vanilla\", \"amber\", \"musky\", \"war...</td>\n",
       "      <td>[\"Labdanum\", \"Styrax\", \"Benzoin\", \"Vanilla\", \"...</td>\n",
       "    </tr>\n",
       "    <tr>\n",
       "      <th>4</th>\n",
       "      <td>40 Notes Perfume</td>\n",
       "      <td>Oudwood Veil</td>\n",
       "      <td>NaN</td>\n",
       "      <td>[\"oud\", \"amber\", \"fresh spicy\", \"balsamic\", \"w...</td>\n",
       "      <td>[\"Kephalis\", \"Agarwood (Oud)\"]</td>\n",
       "    </tr>\n",
       "    <tr>\n",
       "      <th>...</th>\n",
       "      <td>...</td>\n",
       "      <td>...</td>\n",
       "      <td>...</td>\n",
       "      <td>...</td>\n",
       "      <td>...</td>\n",
       "    </tr>\n",
       "    <tr>\n",
       "      <th>37921</th>\n",
       "      <td>Urban Rituelle</td>\n",
       "      <td>Lemongrass Blend</td>\n",
       "      <td>NaN</td>\n",
       "      <td>[\"citrus\", \"fresh spicy\", \"aromatic\", \"herbal\"...</td>\n",
       "      <td>[\"Lemongrass\", \"Myrtle\", \"Grapefruit\", \"Eucaly...</td>\n",
       "    </tr>\n",
       "    <tr>\n",
       "      <th>37922</th>\n",
       "      <td>Urban Rituelle</td>\n",
       "      <td>Peach Blossom</td>\n",
       "      <td>NaN</td>\n",
       "      <td>[\"sweet\", \"honey\", \"white floral\", \"floral\", \"...</td>\n",
       "      <td>[\"Peach\", \"Honey\", \"Sweet Pea\", \"Mimosa\"]</td>\n",
       "    </tr>\n",
       "    <tr>\n",
       "      <th>37923</th>\n",
       "      <td>Urban Rituelle</td>\n",
       "      <td>Pomegranate</td>\n",
       "      <td>NaN</td>\n",
       "      <td>[\"fruity\", \"citrus\", \"fresh\", \"woody\", \"sweet\"...</td>\n",
       "      <td>[\"Pomegranate\", \"Citruses\", \"Red Berries\"]</td>\n",
       "    </tr>\n",
       "    <tr>\n",
       "      <th>37924</th>\n",
       "      <td>Urban Rituelle</td>\n",
       "      <td>Vanilla</td>\n",
       "      <td>NaN</td>\n",
       "      <td>[\"vanilla\", \"caramel\", \"milky\", \"sweet\", \"powd...</td>\n",
       "      <td>[\"Vanilla\", \"Caramel\", \"Milk\"]</td>\n",
       "    </tr>\n",
       "    <tr>\n",
       "      <th>37925</th>\n",
       "      <td>Urban Rituelle</td>\n",
       "      <td>Vanilla Blend</td>\n",
       "      <td>NaN</td>\n",
       "      <td>[\"aromatic\", \"fresh spicy\", \"vanilla\", \"floral...</td>\n",
       "      <td>[\"Vanilla\", \"Lavender\", \"Geranium\"]</td>\n",
       "    </tr>\n",
       "  </tbody>\n",
       "</table>\n",
       "<p>37926 rows × 5 columns</p>\n",
       "</div>"
      ],
      "text/plain": [
       "                  brand                perfume  launch_year  \\\n",
       "0        18 21 Man Made  Sweet Tobacco Spirits       2016.0   \n",
       "1      40 Notes Perfume          Cashmere Musk          NaN   \n",
       "2      40 Notes Perfume     Exotic Ylang Ylang          NaN   \n",
       "3      40 Notes Perfume        Exquisite Amber          NaN   \n",
       "4      40 Notes Perfume           Oudwood Veil          NaN   \n",
       "...                 ...                    ...          ...   \n",
       "37921    Urban Rituelle       Lemongrass Blend          NaN   \n",
       "37922    Urban Rituelle          Peach Blossom          NaN   \n",
       "37923    Urban Rituelle            Pomegranate          NaN   \n",
       "37924    Urban Rituelle                Vanilla          NaN   \n",
       "37925    Urban Rituelle          Vanilla Blend          NaN   \n",
       "\n",
       "                                            main_accords  \\\n",
       "0      [\"wine\", \"vanilla\", \"sweet\", \"woody\", \"aromatic\"]   \n",
       "1      [\"woody\", \"musky\", \"balsamic\", \"powdery\", \"war...   \n",
       "2      [\"yellow floral\", \"white floral\", \"sweet\", \"mu...   \n",
       "3      [\"balsamic\", \"vanilla\", \"amber\", \"musky\", \"war...   \n",
       "4      [\"oud\", \"amber\", \"fresh spicy\", \"balsamic\", \"w...   \n",
       "...                                                  ...   \n",
       "37921  [\"citrus\", \"fresh spicy\", \"aromatic\", \"herbal\"...   \n",
       "37922  [\"sweet\", \"honey\", \"white floral\", \"floral\", \"...   \n",
       "37923  [\"fruity\", \"citrus\", \"fresh\", \"woody\", \"sweet\"...   \n",
       "37924  [\"vanilla\", \"caramel\", \"milky\", \"sweet\", \"powd...   \n",
       "37925  [\"aromatic\", \"fresh spicy\", \"vanilla\", \"floral...   \n",
       "\n",
       "                                                   notes  \n",
       "0      [\"Citruses\", \"Saffron\", \"Tonka Bean\", \"Vanilla...  \n",
       "1      [\"Sandalwood\", \"Cedar\", \"White Musk\", \"Cashmer...  \n",
       "2                    [\"Ylang-Ylang\", \"Gardenia\", \"Musk\"]  \n",
       "3      [\"Labdanum\", \"Styrax\", \"Benzoin\", \"Vanilla\", \"...  \n",
       "4                         [\"Kephalis\", \"Agarwood (Oud)\"]  \n",
       "...                                                  ...  \n",
       "37921  [\"Lemongrass\", \"Myrtle\", \"Grapefruit\", \"Eucaly...  \n",
       "37922          [\"Peach\", \"Honey\", \"Sweet Pea\", \"Mimosa\"]  \n",
       "37923         [\"Pomegranate\", \"Citruses\", \"Red Berries\"]  \n",
       "37924                     [\"Vanilla\", \"Caramel\", \"Milk\"]  \n",
       "37925                [\"Vanilla\", \"Lavender\", \"Geranium\"]  \n",
       "\n",
       "[37926 rows x 5 columns]"
      ]
     },
     "execution_count": 18,
     "metadata": {},
     "output_type": "execute_result"
    }
   ],
   "source": [
    "all_parfumes_cleaned = df_raw.drop(columns=['image', 'longevity', 'sillage'])\n",
    "\n",
    "all_parfumes_cleaned"
   ]
  },
  {
   "cell_type": "code",
   "execution_count": 19,
   "metadata": {},
   "outputs": [
    {
     "name": "stdout",
     "output_type": "stream",
     "text": [
      "<class 'pandas.core.frame.DataFrame'>\n",
      "RangeIndex: 37926 entries, 0 to 37925\n",
      "Data columns (total 5 columns):\n",
      " #   Column        Non-Null Count  Dtype  \n",
      "---  ------        --------------  -----  \n",
      " 0   brand         37926 non-null  object \n",
      " 1   perfume       37923 non-null  object \n",
      " 2   launch_year   26716 non-null  float64\n",
      " 3   main_accords  36957 non-null  object \n",
      " 4   notes         36969 non-null  object \n",
      "dtypes: float64(1), object(4)\n",
      "memory usage: 1.4+ MB\n"
     ]
    }
   ],
   "source": [
    "all_parfumes_cleaned.info()"
   ]
  }
 ],
 "metadata": {
  "kernelspec": {
   "display_name": "Python 3",
   "language": "python",
   "name": "python3"
  },
  "language_info": {
   "codemirror_mode": {
    "name": "ipython",
    "version": 3
   },
   "file_extension": ".py",
   "mimetype": "text/x-python",
   "name": "python",
   "nbconvert_exporter": "python",
   "pygments_lexer": "ipython3",
   "version": "3.9.13"
  }
 },
 "nbformat": 4,
 "nbformat_minor": 2
}
